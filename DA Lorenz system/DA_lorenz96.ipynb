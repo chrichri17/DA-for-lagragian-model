{
 "cells": [
  {
   "cell_type": "markdown",
   "metadata": {},
   "source": [
    "# Principles of Data Assimilation with easy-to-follow Python module implementation: A case study with the Lorenz 63 model "
   ]
  },
  {
   "cell_type": "markdown",
   "metadata": {},
   "source": [
    "## Introduction"
   ]
  },
  {
   "cell_type": "markdown",
   "metadata": {},
   "source": [
    "Data assimilation is used to optimally combine a surrogate model withs parse noisy data ie combine different sources of information to estimate possible states of a system as it evolves in time. Then, data assimilation offers a suite of algorithms that merge measurement data with numerical simulations to predict accurate state trajectories.\n",
    "\n",
    "In this notebook, we are going to explain what data assimilation is and explore one of DA techniques: sequential DA using the ensemble Kalman Filter. The lorenz 96 model is a special case study we'll use to implement our algorithm and plots the results."
   ]
  },
  {
   "cell_type": "code",
   "execution_count": 1,
   "metadata": {},
   "outputs": [],
   "source": [
    "import matplotlib as mpl\n",
    "import matplotlib.pyplot as plt\n",
    "import numpy as np\n",
    "\n",
    "%matplotlib inline"
   ]
  },
  {
   "cell_type": "markdown",
   "metadata": {},
   "source": [
    "## Preliminaries"
   ]
  },
  {
   "cell_type": "markdown",
   "metadata": {},
   "source": [
    "### Notations\n",
    "\n",
    "In general, we assume that all vector-valued functions or variables are written as a column vector. Unless stated otherwise, boldfaced lowercase letters are used to denote vectors and boldface uppercase letters are reserved to matrices.\n",
    " \n",
    "At any time t, let's denote our system state $\\mathbf{u}(t) = [u_1(t), \\dots, u_n(t)]^T \\in \\mathbb{R}^n$. The dynamics of the system are governed by the following differential equation:\n",
    "\n",
    "\\begin{equation*}\n",
    "    \\frac{d \\mathbf{u}}{dt} = \\mathbf{f}(\\mathbf{u}, \\mathbf{\\theta})\n",
    "    \\label{eq:sys_dynamics}\n",
    "    \\tag{1}\n",
    "\\end{equation*}\n",
    "\n",
    "where $\\mathbf{f}: \\mathbb{R}^n \\times \\mathbb{R}^p \\rightarrow \\mathbb{R}^n$ encapsulates the model’s dynamics, with $ \\theta \\in \\mathbb{R}^p $ being the vector of model’s parameters.  With a time-integration scheme applied, the discrete-time model can be written as follows:\n",
    "\n",
    "\\begin{equation*}\n",
    "    \\mathbf{u}_{k+1}(t) = \\mathbf{M}(\\mathbf{u}_k(t), \\theta)\n",
    "    \\label{eq:sys_dynamics_discrete}\n",
    "    \\tag{2}\n",
    "\\end{equation*}\n",
    "\n",
    "where $\\mathbf{M}$ is the one-time step transition map that evolves the state at time $t_k$ to time $t_{k+1}=t_k + \\Delta t$, with $\\Delta t$ being the time step length.\n",
    "\n",
    "Let's introduce $\\mathbf{u}_b$ the background knowledge (our prior information), $\\mathbf{u}_t$ the true value of the state variable and $\\xi_b = \\mathbf{u}_y - \\mathbf{u}_b$ the noise between the true state and the background information.\n",
    "From probabilistic point of view, we assume $\\xi_b = \\mathcal{N}(0, \\mathbf{B}) $ where $\\mathbf{B}$ is the covariance matrix.\n",
    "\n",
    "We define the set of the collected measurements at a specific time $t_k$ as $\\mathbf{w}(t_k) \\in \\mathbb{R}^m$ which is linked to the state vector by:\n",
    "\\begin{equation*}\n",
    "    \\mathbf{w}(t_k) = \\mathbf{h}(\\mathbf{u(t_k)}) + \\xi_m\n",
    "    \\label{eq:state_obs}\n",
    "    \\tag{3}\n",
    "\\end{equation*}\n",
    "\n",
    "or \n",
    "\n",
    "\\begin{equation*}\n",
    "    \\mathbf{w}(t_k) = \\mathbf{H} \\mathbf{u}_k(t) + \\xi_m\n",
    "    \\label{eq:state_obs_discrete}\n",
    "    \\tag{4}\n",
    "\\end{equation*}\n",
    "\n",
    "where $\\mathbf{h}: \\mathbb{R}^n \\rightarrow \\mathbb{R}^m$ defines the mapping from state-space to measurement-space and $\\xi_m \\in \\mathbb{R}^m$ denotes the measurement noise. $\\xi_m$ is assumed to possess a multivariate normal distribution, with a zero mean and a covariance matrix $\\mathbf{R}$ ($\\xi_m = \\mathcal{N}(0, \\mathbf{R})$).\n",
    "\n",
    "An extra grounding assumption is that the measurement noise and thestate variables (either true or background) are uncorrelated. Furthermore, all noises are assumed to be temporally uncorrelated (i.e., white noise).\n",
    "\n",
    "\n",
    "**Data Assimilation objective**: \n",
    "\n",
    "Provide an algorithm that fuses our prior information $\\mathbf{u}_b$ and measurement data $\\mathbf{w}$ to yield a better approximation of the unknown true state.  This better approximation  is  called  the  analysis,  and  denoted  as $\\mathbf{u}_a$. The  difference  between  this  better approximation and the true state is denoted as $\\xi_a = \\mathbf{u}_t - \\mathbf{u}_a$."
   ]
  },
  {
   "cell_type": "markdown",
   "metadata": {},
   "source": [
    "### Twin experiment\n",
    "\n",
    "In a realistic situation, the true state values are unknown and noisy measurements are collected bysensing devices. However, for testing ideas, the ground truth need to be known beforehand such thatthe convergence and accuracy of the developed algorithm can be evaluated. In this sense, the conceptof twin experiment has been popular in data assimilation (and inverse problems, in general) studies.\n",
    "\n",
    "Twin data assimilation experiments are a common approach to assess data assimilation methods. In twin experiments one uses the model to generate a true model state. Further one generates synthetic observations by adding random perturbations to the true state. The, in the actual twin experiment one starts the data assimilation with a state estimate that is different from the true state and assimilates the synthetic observations. One can analyze the assimilation result by comparing the state estimate from the twin experiment with the previously generated true state. "
   ]
  },
  {
   "cell_type": "markdown",
   "metadata": {},
   "source": [
    "## Lorenz 63 system\n",
    "\n",
    " In 1963, Edward Lorenz, with the help of Ellen Fetter, developed a simplified mathematical model for atmospheric convection. The model is a system of three ordinary differential equations now known as the Lorenz equations:\n",
    " \n",
    "\\begin{equation*}\n",
    "    \\begin{cases}\n",
    "        \\frac{dx}{dt} &= \\sigma(y -x) \\\\\n",
    "        \\frac{dy}{dt} &= x(\\rho - z) - y \\\\\n",
    "        \\frac{dz}{dt} &= xy - \\beta z \n",
    "    \\end{cases}\n",
    "    \\label{eq:lorenz_63}\n",
    "    \\tag{5}\n",
    "\\end{equation*}\n",
    " \n",
    "The equations relate the properties of a two-dimensional fluid layer uniformly warmed from below and cooled from above. In particular, the equations describe the rate of change of three quantities with respect to time: $x$ is proportional to the rate of convection, $y$ to the horizontal temperature variation, and $z$ to the vertical temperature variation. The constants $\\sigma$ , $\\rho$, and $\\beta$ are system parameters proportional to the `Prandtl number`, `Rayleigh number`, and certain physical dimensions of the layer itself.\n",
    "\n",
    "The values of $\\sigma = 10$, $\\beta = \\frac{8}{4}$, $\\rho = 28$ are usually used to exhibit a chaotic behavior. If we like to put Equation $\\eqref{eq:lorenz_63}$ with the notations introduced in **Preliminaries**, we can write $ \\mathbf{u} = [x, y, z]^T$ with $n=3$, and $ \\theta = [\\sigma, \\beta, \\rho]^T$ with $p=3$. A Python function describing the dynamics of the Lorenz 63 system is given below"
   ]
  },
  {
   "cell_type": "code",
   "execution_count": 2,
   "metadata": {},
   "outputs": [],
   "source": [
    "def Lorenz63(state, *args): # Lorenz 63 model\n",
    "    sigma, beta, rho = args\n",
    "    x, y, z = state # Unpack the state vector\n",
    "    f = np.zeros(3) # Derivatives\n",
    "    f[0] = sigma*(y - x)\n",
    "    f[1] = x*(rho - z) - y\n",
    "    f[2] = x*y - beta*z\n",
    "    return f"
   ]
  },
  {
   "cell_type": "markdown",
   "metadata": {},
   "source": [
    "## Temporal integration schemes\n",
    "\n",
    "Equation $\\eqref{eq:lorenz_63}$ describe the continuous-time evolution of the Lorenz system. In order to obtain the discrete-time mapping $\\mathbf{M}$, a temporal integration scheme has to be applied. \n",
    "We can use the first-order **Euler** and the fourth-order **Runge–KuKutta** schemes."
   ]
  },
  {
   "cell_type": "code",
   "execution_count": 3,
   "metadata": {},
   "outputs": [],
   "source": [
    "# rhs:  right-hand side function, this is mainly the continuous-time model f(u)\n",
    "# state: current state of the system\n",
    "# dt: time step\n",
    "# args: other parmaters (here it is theta = (sigma, beta, rho) of the lorenz 63 system)\n",
    "\n",
    "def euler(rhs, state, dt, *args):\n",
    "    k1 = rhs(state, *args)\n",
    "    new_state = state + dt*k1\n",
    "    return new_state\n",
    "\n",
    "\n",
    "def RK4(rhs, state, dt, *args):\n",
    "    k1 = rhs(state, *args)\n",
    "    k2 = rhs(state+k1*dt/2, *args)\n",
    "    k3 = rhs(state+k2*dt/2, *args)\n",
    "    k4 = rhs(state+k3*dt, *args)\n",
    "    new_state = state + (dt/6)*(k1+2*k2+2*k3+k4)\n",
    "    return new_state"
   ]
  },
  {
   "cell_type": "markdown",
   "metadata": {},
   "source": [
    "## Twin experiment testing\n",
    "\n",
    "For  twin  experiment  testing,  we  suppose  a  true  initial  condition  of $\\mathbf{u}_t(0) = [1, 1, 1]^T$ and measurements are collected each $0.2$ time units for a total time of $2$.  We suppose that we measure the full system state (i.e., $h(\\mathbf{u}) = \\mathbf{u}$, $m = 3$,  and $\\mathbf{H} = \\mathbf{I}_3$,  where $\\mathbf{I}_3$ is the $3×3$ identity matrix). Measurements are considered to be contaminated by a white Gaussian noise with a zero mean and a covariance matrix $\\mathbf{R} =Diag(\\sigma_1^2, \\sigma_2^2, \\sigma_3^2)$.  For simplicity, we let $ \\sigma_1^2 = \\sigma_2^2 = \\sigma_3^2 = 0.15$."
   ]
  },
  {
   "cell_type": "code",
   "execution_count": 4,
   "metadata": {},
   "outputs": [],
   "source": [
    "# system parameters\n",
    "sigma = 10.0\n",
    "beta  = 8.0/3.0\n",
    "rho   = 28.0\n",
    "\n",
    "# time axis\n",
    "dt = 0.01\n",
    "tm = 10\n",
    "nt = int(tm/dt)\n",
    "t  = np.linspace(0, tm, nt+1)"
   ]
  },
  {
   "cell_type": "code",
   "execution_count": 5,
   "metadata": {},
   "outputs": [],
   "source": [
    "def h(u):  # Observation operator\n",
    "    w = u\n",
    "    return w\n",
    "\n",
    "def Dh(u): # Jacobian of observation operator\n",
    "    n = len(u)\n",
    "    D = np.eye(n)\n",
    "    return D\n",
    "\n",
    "np.random.seed(seed=1)            # set seed\n",
    "\n",
    "u0True = np.array([1, 1, 1])      # True initial conditions\n",
    "sig_m  = 0.15                     # standard deviation for measurement noise\n",
    "R      = sig_m**2 * np.eye(3)     # covariance matrix for measurement noise\n",
    "dt_m   = 0.2                      # time period between observations\n",
    "tm_m   = 2                        # maximum time for observations\n",
    "nt_m   = int(tm_m/dt_m)           # number of observation instants\n",
    "ind_m  = (np.linspace(int(dt_m/dt), int(tm_m/dt), nt_m)).astype(int)\n",
    "t_m    = t[ind_m]                 # time integration\n",
    "\n",
    "uTrue  = np.zeros([3, nt+1])\n",
    "uTrue[:, 0] = u0True\n",
    "km = 0\n",
    "w  = np.zeros([3, nt_m])\n",
    "for k in range(nt):\n",
    "    uTrue[:, k+1] = RK4(Lorenz63, uTrue[:, k], dt, sigma, beta, rho)\n",
    "    if (km < nt_m) and (k+1 == ind_m[km]):\n",
    "        w[:, km] = h(uTrue[:, k+1]) + np.random.normal(0, sig_m, [3,])\n",
    "        km += 1"
   ]
  },
  {
   "cell_type": "code",
   "execution_count": 10,
   "metadata": {},
   "outputs": [
    {
     "data": {
      "text/plain": [
       "array([0.2, 0.4, 0.6, 0.8, 1. , 1.2, 1.4, 1.6, 1.8, 2. ])"
      ]
     },
     "execution_count": 10,
     "metadata": {},
     "output_type": "execute_result"
    }
   ],
   "source": [
    "t_m"
   ]
  },
  {
   "cell_type": "code",
   "execution_count": 19,
   "metadata": {},
   "outputs": [
    {
     "data": {
      "image/png": "[encoded data removed]",
      "text/plain": [
       "<Figure size 576x360 with 1 Axes>"
      ]
     },
     "metadata": {
      "needs_background": "light"
     },
     "output_type": "display_data"
    }
   ],
   "source": [
    "fig, ax = plt.subplots(1, 1, figsize=(8, 5))\n",
    "\n",
    "ax.plot(t, uTrue[0, :])\n",
    "ax.plot(t_m, w[0, :], 'o')\n",
    "ax.set_xlabel(\"time $t$\", fontsize=14)\n",
    "ax.set_ylabel(\"$x(t)$\", fontsize=14)\n",
    "\n",
    "plt.title('Twin experiment', fontsize=20)\n",
    "# plt.savefig(\"twin_exp\")\n",
    "plt.show()"
   ]
  },
  {
   "cell_type": "markdown",
   "metadata": {},
   "source": [
    "## Kalman Filtering"
   ]
  },
  {
   "cell_type": "markdown",
   "metadata": {},
   "source": [
    "The idea behind Kalman filtering techniques is to propagate the mean as well as the covariance matrix of the system’s state sequentially in time. That is, in addition to providing an improved state estimate (i.e., the analysis), it also gives some information about the statistical properties of this state estimate. This is one main difference between Kalman filtering and variational methods, which often assumes a fixed (stationary) background covariance matrices.\n",
    "\n",
    "Although most application in fluid dynamics involve nonlinear systems, we first describe thestandard Kalman filter developed for the linear dynamical system case with linear observation operatordescribed as:\n",
    "\n",
    "\n",
    "\\begin{equation*}\n",
    "    \\mathbf{u_t}(t_{k+1}) = \\mathbf{M_k} \\mathbf{u}_t(t_k) + \\xi_p(t_k)\n",
    "    \\label{eq:sys_dynamics_discrete_kf}\n",
    "    \\tag{6}\n",
    "\\end{equation*}\n",
    "\n",
    "\n",
    "\\begin{equation*}\n",
    "    \\mathbf{w}(t_k) = \\mathbf{H_k} \\mathbf{u}_t(t_k) + \\xi_m(t_k)\n",
    "    \\label{eq:state_obs_discrete_kf}\n",
    "    \\tag{7}\n",
    "\\end{equation*}\n",
    "\n",
    "where $\\xi_p \\in \\mathbb{R}^n$ is the process noise (or model error).\n",
    "\n",
    "Since $\\xi_b = \\mathcal{N}(0, \\mathbf{B})$, the true state $\\mathbf{u}_t(t_k)$ is assumed to be a random variable with known mean $E[\\mathbf{u}_t(t_k)] = \\mathbf{u}_b(t_k)$ and  covariance  matrix  of $E[(\\mathbf{u}_t(t_k) - \\mathbf{u}_b(t_k))(\\mathbf{u}_t(t_k) - \\mathbf{u}_b(t_k))^T] = \\mathbf{B}_k$.In Kalman filtering, we note that the covariance matrix evolves in time, and thus appears the subscript. We also assume that the process noise is unbiased with zero mean and a covariance matrix Q. That is $E(\\xi_p(t_k)) = 0$ and $E(\\xi_p(t_k)\\xi_p(t_k)^T) = \\mathbf{Q}_k$.\n",
    "\n",
    "Thus, the goal of the filtering problem is to find a good estimate (analysis) $\\mathbf{u}_a(t_k)$ of the true system’s state $\\mathbf{u}_t(t_k)$ given a dynamical model a set of noisy observation $\\{\\mathbf{w}(t_i)\\}$ collected at sometime instants $t_i \\in (0, t_k]$. The optimality of the estimate $\\mathbf{u}_a(t_k)$ is defined as the one which minimizes $E[(\\mathbf{u}_t(t_k) - \\mathbf{u}_a(t_k))(\\mathbf{u}_t(t_k) - \\mathbf{u}_a(t_k))^T]$. This filtering process generally consists of two steps: the **forecast step** and the **data assimilation step**.\n",
    "\n",
    "The forecast step is performed using the predictable part of the given dynamical model starting from the best known information at time $t_k$ (denoted as $\\hat{\\mathbf{u}}_b(t_k)$) to produce a forecast or backgrounde stimate $\\mathbf{u}_b(t_{k+1}) = \\mathbf{M}_k \\hat{\\mathbf{u}}_b(t_k)$. The difference between the background forecast and true state at $t_{k+1}$ can be written as follows:"
   ]
  },
  {
   "cell_type": "markdown",
   "metadata": {},
   "source": [
    "* Continue the description here....."
   ]
  },
  {
   "cell_type": "code",
   "execution_count": null,
   "metadata": {},
   "outputs": [],
   "source": []
  },
  {
   "cell_type": "markdown",
   "metadata": {},
   "source": [
    "For data assimilation testing, we assume that we begin with a perturbed initial condition of $\\mathbf{u}(0) = [2, 3, 4]^T$.Then, background state values are computed at $t=0.2$ by time integration of Equation(5) starting from this false initial condition.  Observations at $t=0.2$ are assimilated to provide the analysis at $t=0.2$. After that, background state values are computed at $t=0.4$ by time integration of Equation (5) starting from the analysis at $t=0.2$, and so on. Solution trajectories are presented for a total time of $10$, where observations are only available up to $t=2$."
   ]
  },
  {
   "cell_type": "markdown",
   "metadata": {},
   "source": [
    "## Application to our Lagrandian model "
   ]
  }
 ],
 "metadata": {
  "kernelspec": {
   "display_name": "Python 3",
   "language": "python",
   "name": "python3"
  },
  "language_info": {
   "codemirror_mode": {
    "name": "ipython",
    "version": 3
   },
   "file_extension": ".py",
   "mimetype": "text/x-python",
   "name": "python",
   "nbconvert_exporter": "python",
   "pygments_lexer": "ipython3",
   "version": "3.8.6"
  }
 },
 "nbformat": 4,
 "nbformat_minor": 4
}
